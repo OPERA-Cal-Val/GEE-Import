{
 "cells": [
  {
   "cell_type": "code",
   "execution_count": 30,
   "metadata": {},
   "outputs": [],
   "source": [
    "import subprocess\n",
    "import boto3\n",
    "import os\n",
    "from google.cloud import storage\n",
    "import shutil\n",
    "import time\n",
    "from botocore import UNSIGNED\n",
    "from botocore.client import Config\n",
    "os.environ[\"GCLOUD_PROJECT\"] = \"opera-one\""
   ]
  },
  {
   "cell_type": "code",
   "execution_count": 42,
   "metadata": {},
   "outputs": [],
   "source": [
    "s3_prefix = 'products/int_fwd_r2/2023-05-04_globalrun_2021-04-11_to_2021-04-22/RTC_S1/'\n",
    "gcs_prefix = 'products/2023-05-04_globalrun_2021-04-11_to_2021-04-22/'\n",
    "#gcs_prefix = 'products/cog-test/'"
   ]
  },
  {
   "cell_type": "code",
   "execution_count": 43,
   "metadata": {},
   "outputs": [],
   "source": [
    "def upload_blob(bucket_name, source_file_name, destination_blob_name):\n",
    "    storage_client = storage.Client()\n",
    "    bucket = storage_client.get_bucket(bucket_name,timeout=None)\n",
    "    blob = bucket.blob(destination_blob_name)\n",
    "    blob.upload_from_filename(source_file_name,timeout=None)\n",
    "\n",
    "def processRTC(s3key,gcskey):\n",
    "    if os.path.exists('./temp/'):\n",
    "        shutil.rmtree('./temp/')\n",
    "    os.mkdir('./temp/')\n",
    "    #os.mkdir('./temp/deflate/')\n",
    "\n",
    "    #Download RTC file\n",
    "    print('Downloading RTC File')\n",
    "    s3 = boto3.client('s3', config=Config(signature_version=UNSIGNED))\n",
    "    bucket = 'opera-pst-rs-pop1'\n",
    "    filename = s3key.split('/')[-1]\n",
    "    filepath = './temp/'+filename\n",
    "    s3.download_file(bucket, s3key, filepath)\n",
    "\n",
    "    #Change compression to DEFLATE\n",
    "    print('Translating compression')\n",
    "    tempfile = './temp/gtiff32.tif'\n",
    "    outfile = './temp/cog32deflate.tif'\n",
    "    gdal_cmd1 = f'gdal_translate -of GTiff -co NBITS=32 {filepath} {tempfile}'\n",
    "    gdal_cmd2 = f'gdal_translate -of COG -co COMPRESS=DEFLATE -co RESAMPLING=AVERAGE {tempfile} {outfile}'\n",
    "    subprocess.run(gdal_cmd1,shell=True,)\n",
    "    subprocess.run(gdal_cmd2,shell=True,)\n",
    "    metadata = os.popen(f'gdalinfo {filepath}').read()\n",
    "    if metadata.split('ORBIT_PASS_DIRECTION=')[1].split('\\n')[0] == 'ASCENDING':\n",
    "        pass_d = 'A'\n",
    "    elif metadata.split('ORBIT_PASS_DIRECTION=')[1].split('\\n')[0] == 'DESCENDING':\n",
    "        pass_d = 'D'\n",
    "    else:\n",
    "        pass_d = 'N'\n",
    "\n",
    "    #Upload to GCS bucket\n",
    "    print('Uploading to GCS Bucket')\n",
    "    gcskey = gcskey.split('.tif')[0] + f'_{pass_d}.tif'\n",
    "    gcsbucket = \"opera-bucket-rtc\"\n",
    "    upload_blob(gcsbucket,outfile,gcskey)\n"
   ]
  },
  {
   "cell_type": "code",
   "execution_count": 44,
   "metadata": {},
   "outputs": [],
   "source": [
    "#processRTC('products/RTC_S1/OPERA_L2_RTC-S1_T121-258596-IW1_20220411T000836Z_20230503T114347Z_S1A_30_v0.0/OPERA_L2_RTC-S1_T121-258596-IW1_20220411T000836Z_20230503T114347Z_S1A_30_v0.0_VH.tif','products/test-run/OPERA_L2_RTC-S1_T121-258596-IW1_20220411T000836Z_20230503T114347Z_S1A_30_v0.0_VH.tif')"
   ]
  },
  {
   "cell_type": "code",
   "execution_count": 45,
   "metadata": {},
   "outputs": [
    {
     "name": "stdout",
     "output_type": "stream",
     "text": [
      "500 s3 keys found\n"
     ]
    }
   ],
   "source": [
    "s3 = boto3.client('s3', config=Config(signature_version=UNSIGNED))\n",
    "result = s3.list_objects(Bucket='opera-pst-rs-pop1', Prefix=s3_prefix , Delimiter='/')\n",
    "keyList = []\n",
    "for o in result.get('CommonPrefixes'):\n",
    "    path = o.get('Prefix')\n",
    "    if path[-2] != 's':  #checks if end is not \"static layers\"\n",
    "        fname = path.split('/')[-2]+'_VH.tif'\n",
    "        keyList.append(path+fname)\n",
    "\n",
    "print(f'{len(keyList)} s3 keys found')"
   ]
  },
  {
   "cell_type": "code",
   "execution_count": 47,
   "metadata": {},
   "outputs": [
    {
     "name": "stdout",
     "output_type": "stream",
     "text": [
      "0 existing gcs keys found\n"
     ]
    }
   ],
   "source": [
    "storage_client = storage.Client()\n",
    "blobs = storage_client.list_blobs(\"opera-bucket-rtc\", prefix=gcs_prefix)\n",
    "gcsKeys = []\n",
    "for blob in blobs:\n",
    "    gcsKeys.append(blob.name.split('.tif')[0][:-2]+'.tif')\n",
    "print(f'{len(gcsKeys)} existing gcs keys found')"
   ]
  },
  {
   "cell_type": "code",
   "execution_count": 48,
   "metadata": {},
   "outputs": [
    {
     "name": "stdout",
     "output_type": "stream",
     "text": [
      "Downloading RTC File\n",
      "Translating compression\n",
      "Input file size is 3310, 1664\n",
      "0...10...20...30...40...50...60...70...80...90...100 - done.\n",
      "Input file size is 3310, 1664\n",
      "0...10...20...30...40...50...60...70...80...90...100 - done.\n",
      "Uploading to GCS Bucket\n",
      "[0 - 7.791720867156982] Uploaded to: products/2023-05-04_globalrun_2021-04-11_to_2021-04-22/OPERA_L2_RTC-S1_T001-000010-IW1_20210419T180101Z_20230505T150330Z_S1A_30_v0.0_VH.tif\n",
      "Downloading RTC File\n",
      "Translating compression\n",
      "Input file size is 3437, 1652\n",
      "0...10...20...30...40...50...60...70...80...90...100 - done.\n",
      "Input file size is 3437, 1652\n",
      "0...10...20...30...40...50...60...70...80...90...100 - done.\n",
      "Uploading to GCS Bucket\n",
      "[1 - 16.34800410270691] Uploaded to: products/2023-05-04_globalrun_2021-04-11_to_2021-04-22/OPERA_L2_RTC-S1_T001-000010-IW2_20210419T180102Z_20230505T150330Z_S1A_30_v0.0_VH.tif\n",
      "Downloading RTC File\n",
      "Translating compression\n",
      "Input file size is 3101, 1622\n",
      "0...10...20...30...40...50...60...70...80...90...100 - done.\n",
      "Input file size is 3101, 1622\n",
      "0...10...20...30...40...50...60...70...80...90...100 - done.\n",
      "Uploading to GCS Bucket\n",
      "[2 - 23.82058596611023] Uploaded to: products/2023-05-04_globalrun_2021-04-11_to_2021-04-22/OPERA_L2_RTC-S1_T001-000010-IW3_20210419T180102Z_20230505T150330Z_S1A_30_v0.0_VH.tif\n",
      "Downloading RTC File\n",
      "Translating compression\n",
      "Input file size is 3310, 1663\n",
      "0...10...20...30...40...50...60...70...80...90...100 - done.\n",
      "Input file size is 3310, 1663\n",
      "0...10...20...30...40...50...60...70...80...90...100 - done.\n",
      "Uploading to GCS Bucket\n",
      "[3 - 33.1849000453949] Uploaded to: products/2023-05-04_globalrun_2021-04-11_to_2021-04-22/OPERA_L2_RTC-S1_T001-000011-IW1_20210419T180103Z_20230505T150330Z_S1A_30_v0.0_VH.tif\n",
      "Downloading RTC File\n",
      "Translating compression\n",
      "Input file size is 3437, 1651\n",
      "0...10...20...30...40...50...60...70...80...90...100 - done.\n",
      "Input file size is 3437, 1651\n",
      "0...10...20...30...40...50...60...70...80...90...100 - done.\n",
      "Uploading to GCS Bucket\n",
      "[4 - 41.83866000175476] Uploaded to: products/2023-05-04_globalrun_2021-04-11_to_2021-04-22/OPERA_L2_RTC-S1_T001-000011-IW2_20210419T180104Z_20230505T150330Z_S1A_30_v0.0_VH.tif\n"
     ]
    }
   ],
   "source": [
    "i = 0\n",
    "start_time = time.time()\n",
    "for key in keyList[0:5]:\n",
    "    fname = key.split('/')[-1]\n",
    "    gcsKey = gcs_prefix+fname\n",
    "    if gcsKey not in gcsKeys:\n",
    "        processRTC(key,gcsKey)\n",
    "        print(f'[{i} - {time.time() - start_time}] Uploaded to: {gcsKey}')\n",
    "    else:\n",
    "        print(f'[{i} - {time.time() - start_time}] Skipped: {gcsKey}')\n",
    "    i = i+1"
   ]
  },
  {
   "cell_type": "code",
   "execution_count": 22,
   "metadata": {},
   "outputs": [
    {
     "name": "stdout",
     "output_type": "stream",
     "text": [
      "ASCENDING\n",
      "yes\n"
     ]
    }
   ],
   "source": []
  },
  {
   "cell_type": "code",
   "execution_count": null,
   "metadata": {},
   "outputs": [],
   "source": []
  }
 ],
 "metadata": {
  "kernelspec": {
   "display_name": "opera-gee",
   "language": "python",
   "name": "python3"
  },
  "language_info": {
   "codemirror_mode": {
    "name": "ipython",
    "version": 3
   },
   "file_extension": ".py",
   "mimetype": "text/x-python",
   "name": "python",
   "nbconvert_exporter": "python",
   "pygments_lexer": "ipython3",
   "version": "3.10.0"
  },
  "orig_nbformat": 4
 },
 "nbformat": 4,
 "nbformat_minor": 2
}
