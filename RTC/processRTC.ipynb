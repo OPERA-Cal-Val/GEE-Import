{
 "cells": [
  {
   "cell_type": "code",
   "execution_count": 2,
   "metadata": {},
   "outputs": [],
   "source": [
    "import subprocess\n",
    "import boto3\n",
    "import os\n",
    "from google.cloud import storage\n",
    "import shutil\n",
    "import time\n",
    "from botocore import UNSIGNED\n",
    "from botocore.client import Config\n",
    "from collections import namedtuple\n",
    "from operator import attrgetter\n",
    "from pprint import pprint\n",
    "import multiprocessing as mp\n",
    "from google.auth.transport.requests import AuthorizedSession\n",
    "import ee\n",
    "os.environ[\"GCLOUD_PROJECT\"] = \"opera-one\""
   ]
  },
  {
   "cell_type": "code",
   "execution_count": 2,
   "metadata": {},
   "outputs": [],
   "source": [
    "s3_prefix = 'products/int_fwd_r2/2023-05-04_globalrun_2021-04-11_to_2021-04-22/RTC_S1/'\n",
    "gcs_prefix = 'products/2023-05-04_globalrun_2021-04-11_to_2021-04-22/'\n",
    "#gcs_prefix = 'products/cog-test/'"
   ]
  },
  {
   "cell_type": "code",
   "execution_count": 3,
   "metadata": {},
   "outputs": [],
   "source": [
    "def upload_blob(bucket_name, source_file_name, destination_blob_name):\n",
    "    storage_client = storage.Client()\n",
    "    bucket = storage_client.get_bucket(bucket_name,timeout=None)\n",
    "    blob = bucket.blob(destination_blob_name)\n",
    "    blob.upload_from_filename(source_file_name,timeout=None)\n",
    "\n",
    "def processRTC(s3key,gcskey):\n",
    "    filename = s3key.split('/')[-1]\n",
    "    if os.path.exists(f'./temp_{filename}/'):\n",
    "        shutil.rmtree(f'./temp_{filename}/')\n",
    "    os.mkdir(f'./temp/_{filename}')\n",
    "\n",
    "    #Download RTC file\n",
    "    print('Downloading RTC File')\n",
    "    s3 = boto3.client('s3', config=Config(signature_version=UNSIGNED))\n",
    "    bucket = 'opera-pst-rs-pop1'\n",
    "    filename = s3key.split('/')[-1]\n",
    "    filepath = f'./temp_{filename}/'+filename\n",
    "    s3.download_file(bucket, s3key, filepath)\n",
    "\n",
    "    #Change compression to DEFLATE\n",
    "    print('Translating compression')\n",
    "    tempfile = f'./temp_{filename}/gtiff32.tif'\n",
    "    outfile = f'./temp_{filename}/cog32deflate.tif'\n",
    "    gdal_cmd1 = f'gdal_translate -of GTiff -co NBITS=32 {filepath} {tempfile}'\n",
    "    gdal_cmd2 = f'gdal_translate -of COG -co COMPRESS=DEFLATE -co RESAMPLING=AVERAGE {tempfile} {outfile}'\n",
    "    subprocess.run(gdal_cmd1,shell=True,stdout=subprocess.DEVNULL)\n",
    "    subprocess.run(gdal_cmd2,shell=True,stdout=subprocess.DEVNULL)\n",
    "    metadata = os.popen(f'gdalinfo {filepath}').read()\n",
    "    if metadata.split('ORBIT_PASS_DIRECTION=')[1].split('\\n')[0] == 'ASCENDING':\n",
    "        pass_d = 'A'\n",
    "    elif metadata.split('ORBIT_PASS_DIRECTION=')[1].split('\\n')[0] == 'DESCENDING':\n",
    "        pass_d = 'D'\n",
    "    else:\n",
    "        pass_d = 'N'\n",
    "\n",
    "    #Upload to GCS bucket\n",
    "    print('Uploading to GCS Bucket')\n",
    "    gcskey = gcskey.split('.tif')[0] + f'_{pass_d}.tif'\n",
    "    gcsbucket = \"opera-bucket-rtc\"\n",
    "    #upload_blob(gcsbucket,outfile,gcskey)\n",
    "\n",
    "    shutil.rmtree(f'./temp_{filename}/')\n"
   ]
  },
  {
   "cell_type": "code",
   "execution_count": 88,
   "metadata": {},
   "outputs": [
    {
     "name": "stdout",
     "output_type": "stream",
     "text": [
      "296476 s3 keys found\n"
     ]
    }
   ],
   "source": [
    "s3 = boto3.client('s3', config=Config(signature_version=UNSIGNED))\n",
    "paginator = s3.get_paginator('list_objects_v2')\n",
    "pages = paginator.paginate(Bucket='opera-pst-rs-pop1', Prefix=s3_prefix, Delimiter='/')\n",
    "keyList = []\n",
    "for page in pages:\n",
    "    #pprint(page)\n",
    "    for obj in page['CommonPrefixes']:\n",
    "        path = obj.get('Prefix')\n",
    "        if path[-2] != 's':  #checks if end is not \"static_layers\"\n",
    "            fname = path.split('/')[-2]+'_VH.tif'\n",
    "            keyList.append(path+fname)\n",
    "\n",
    "print(f'{len(keyList)} s3 keys found')"
   ]
  },
  {
   "cell_type": "code",
   "execution_count": 4,
   "metadata": {},
   "outputs": [
    {
     "name": "stdout",
     "output_type": "stream",
     "text": [
      "274723 existing gcs keys found\n"
     ]
    }
   ],
   "source": [
    "storage_client = storage.Client()\n",
    "blobs = storage_client.list_blobs(\"opera-bucket-rtc\", prefix=gcs_prefix)\n",
    "gcsKeys = []\n",
    "for blob in blobs:\n",
    "    gcsKeys.append(blob.name.split('.tif')[0][:-2]+'.tif')\n",
    "print(f'{len(gcsKeys)} existing gcs keys found')"
   ]
  },
  {
   "cell_type": "code",
   "execution_count": 105,
   "metadata": {},
   "outputs": [
    {
     "name": "stdout",
     "output_type": "stream",
     "text": [
      "295975\n"
     ]
    }
   ],
   "source": [
    "keyPairs = []\n",
    "for key in keyList:\n",
    "    fname = key.split('/')[-1]\n",
    "    gcsKey = gcs_prefix+fname\n",
    "    if gcsKey not in gcsKeys:\n",
    "        keydict = {'s3key':key,'gcsKey':gcsKey}\n",
    "        keyPairs.append(keydict)\n",
    "print(len(keyPairs))"
   ]
  },
  {
   "cell_type": "code",
   "execution_count": 101,
   "metadata": {},
   "outputs": [],
   "source": [
    "def run_rtc_transfer(keydict):\n",
    "    s3key = keydict['s3key']\n",
    "    gcskey = keydict['gcsKey']\n",
    "    processRTC(s3key,gcskey)\n"
   ]
  },
  {
   "cell_type": "code",
   "execution_count": 102,
   "metadata": {},
   "outputs": [],
   "source": [
    "pool = mp.Pool(4)"
   ]
  },
  {
   "cell_type": "code",
   "execution_count": 106,
   "metadata": {},
   "outputs": [
    {
     "name": "stderr",
     "output_type": "stream",
     "text": [
      "Process SpawnPoolWorker-9:\n",
      "Process SpawnPoolWorker-10:\n",
      "Process SpawnPoolWorker-11:\n",
      "Process SpawnPoolWorker-12:\n",
      "Traceback (most recent call last):\n",
      "Traceback (most recent call last):\n",
      "  File \"/Users/mbonnema/miniconda3/envs/opera-gee/lib/python3.10/multiprocessing/process.py\", line 315, in _bootstrap\n",
      "    self.run()\n",
      "  File \"/Users/mbonnema/miniconda3/envs/opera-gee/lib/python3.10/multiprocessing/process.py\", line 315, in _bootstrap\n",
      "    self.run()\n",
      "  File \"/Users/mbonnema/miniconda3/envs/opera-gee/lib/python3.10/multiprocessing/process.py\", line 108, in run\n",
      "    self._target(*self._args, **self._kwargs)\n",
      "  File \"/Users/mbonnema/miniconda3/envs/opera-gee/lib/python3.10/multiprocessing/process.py\", line 108, in run\n",
      "    self._target(*self._args, **self._kwargs)\n",
      "  File \"/Users/mbonnema/miniconda3/envs/opera-gee/lib/python3.10/multiprocessing/pool.py\", line 114, in worker\n",
      "    task = get()\n",
      "  File \"/Users/mbonnema/miniconda3/envs/opera-gee/lib/python3.10/multiprocessing/pool.py\", line 114, in worker\n",
      "    task = get()\n",
      "  File \"/Users/mbonnema/miniconda3/envs/opera-gee/lib/python3.10/multiprocessing/queues.py\", line 368, in get\n",
      "    return _ForkingPickler.loads(res)\n",
      "  File \"/Users/mbonnema/miniconda3/envs/opera-gee/lib/python3.10/multiprocessing/queues.py\", line 368, in get\n",
      "    return _ForkingPickler.loads(res)\n",
      "AttributeError: Can't get attribute 'run_rtc_transfer' on <module '__main__' (built-in)>\n",
      "Traceback (most recent call last):\n",
      "  File \"/Users/mbonnema/miniconda3/envs/opera-gee/lib/python3.10/multiprocessing/process.py\", line 315, in _bootstrap\n",
      "    self.run()\n",
      "  File \"/Users/mbonnema/miniconda3/envs/opera-gee/lib/python3.10/multiprocessing/process.py\", line 108, in run\n",
      "    self._target(*self._args, **self._kwargs)\n",
      "  File \"/Users/mbonnema/miniconda3/envs/opera-gee/lib/python3.10/multiprocessing/pool.py\", line 114, in worker\n",
      "    task = get()\n",
      "  File \"/Users/mbonnema/miniconda3/envs/opera-gee/lib/python3.10/multiprocessing/queues.py\", line 368, in get\n",
      "    return _ForkingPickler.loads(res)\n",
      "AttributeError: Can't get attribute 'run_rtc_transfer' on <module '__main__' (built-in)>\n",
      "Traceback (most recent call last):\n",
      "  File \"/Users/mbonnema/miniconda3/envs/opera-gee/lib/python3.10/multiprocessing/process.py\", line 315, in _bootstrap\n",
      "    self.run()\n",
      "  File \"/Users/mbonnema/miniconda3/envs/opera-gee/lib/python3.10/multiprocessing/process.py\", line 108, in run\n",
      "    self._target(*self._args, **self._kwargs)\n",
      "  File \"/Users/mbonnema/miniconda3/envs/opera-gee/lib/python3.10/multiprocessing/pool.py\", line 114, in worker\n",
      "    task = get()\n",
      "  File \"/Users/mbonnema/miniconda3/envs/opera-gee/lib/python3.10/multiprocessing/queues.py\", line 368, in get\n",
      "    return _ForkingPickler.loads(res)\n",
      "AttributeError: Can't get attribute 'run_rtc_transfer' on <module '__main__' (built-in)>\n",
      "AttributeError: Can't get attribute 'run_rtc_transfer' on <module '__main__' (built-in)>\n",
      "Process SpawnPoolWorker-14:\n",
      "Process SpawnPoolWorker-16:\n",
      "Process SpawnPoolWorker-13:\n",
      "Process SpawnPoolWorker-15:\n",
      "Traceback (most recent call last):\n",
      "  File \"/Users/mbonnema/miniconda3/envs/opera-gee/lib/python3.10/multiprocessing/process.py\", line 315, in _bootstrap\n",
      "    self.run()\n",
      "  File \"/Users/mbonnema/miniconda3/envs/opera-gee/lib/python3.10/multiprocessing/process.py\", line 108, in run\n",
      "    self._target(*self._args, **self._kwargs)\n",
      "  File \"/Users/mbonnema/miniconda3/envs/opera-gee/lib/python3.10/multiprocessing/pool.py\", line 114, in worker\n",
      "    task = get()\n",
      "  File \"/Users/mbonnema/miniconda3/envs/opera-gee/lib/python3.10/multiprocessing/queues.py\", line 368, in get\n",
      "    return _ForkingPickler.loads(res)\n",
      "Traceback (most recent call last):\n",
      "Traceback (most recent call last):\n",
      "AttributeError: Can't get attribute 'run_rtc_transfer' on <module '__main__' (built-in)>\n",
      "  File \"/Users/mbonnema/miniconda3/envs/opera-gee/lib/python3.10/multiprocessing/process.py\", line 315, in _bootstrap\n",
      "    self.run()\n",
      "  File \"/Users/mbonnema/miniconda3/envs/opera-gee/lib/python3.10/multiprocessing/process.py\", line 108, in run\n",
      "    self._target(*self._args, **self._kwargs)\n",
      "  File \"/Users/mbonnema/miniconda3/envs/opera-gee/lib/python3.10/multiprocessing/process.py\", line 315, in _bootstrap\n",
      "    self.run()\n",
      "  File \"/Users/mbonnema/miniconda3/envs/opera-gee/lib/python3.10/multiprocessing/pool.py\", line 114, in worker\n",
      "    task = get()\n",
      "  File \"/Users/mbonnema/miniconda3/envs/opera-gee/lib/python3.10/multiprocessing/process.py\", line 108, in run\n",
      "    self._target(*self._args, **self._kwargs)\n",
      "  File \"/Users/mbonnema/miniconda3/envs/opera-gee/lib/python3.10/multiprocessing/queues.py\", line 368, in get\n",
      "    return _ForkingPickler.loads(res)\n",
      "  File \"/Users/mbonnema/miniconda3/envs/opera-gee/lib/python3.10/multiprocessing/pool.py\", line 114, in worker\n",
      "    task = get()\n",
      "  File \"/Users/mbonnema/miniconda3/envs/opera-gee/lib/python3.10/multiprocessing/queues.py\", line 368, in get\n",
      "    return _ForkingPickler.loads(res)\n",
      "AttributeError: Can't get attribute 'run_rtc_transfer' on <module '__main__' (built-in)>\n",
      "AttributeError: Can't get attribute 'run_rtc_transfer' on <module '__main__' (built-in)>\n",
      "Traceback (most recent call last):\n",
      "  File \"/Users/mbonnema/miniconda3/envs/opera-gee/lib/python3.10/multiprocessing/process.py\", line 315, in _bootstrap\n",
      "    self.run()\n",
      "  File \"/Users/mbonnema/miniconda3/envs/opera-gee/lib/python3.10/multiprocessing/process.py\", line 108, in run\n",
      "    self._target(*self._args, **self._kwargs)\n",
      "  File \"/Users/mbonnema/miniconda3/envs/opera-gee/lib/python3.10/multiprocessing/pool.py\", line 114, in worker\n",
      "    task = get()\n",
      "  File \"/Users/mbonnema/miniconda3/envs/opera-gee/lib/python3.10/multiprocessing/queues.py\", line 368, in get\n",
      "    return _ForkingPickler.loads(res)\n",
      "AttributeError: Can't get attribute 'run_rtc_transfer' on <module '__main__' (built-in)>\n"
     ]
    },
    {
     "ename": "KeyboardInterrupt",
     "evalue": "",
     "output_type": "error",
     "traceback": [
      "\u001b[0;31m---------------------------------------------------------------------------\u001b[0m",
      "\u001b[0;31mKeyboardInterrupt\u001b[0m                         Traceback (most recent call last)",
      "\u001b[0;32m/var/folders/7d/06y2wltx2rd48646nzd4tyzh0000gq/T/ipykernel_84058/1298528079.py\u001b[0m in \u001b[0;36m<module>\u001b[0;34m\u001b[0m\n\u001b[0;32m----> 1\u001b[0;31m \u001b[0mpool\u001b[0m\u001b[0;34m.\u001b[0m\u001b[0mmap\u001b[0m\u001b[0;34m(\u001b[0m\u001b[0mrun_rtc_transfer\u001b[0m\u001b[0;34m,\u001b[0m\u001b[0;34m[\u001b[0m\u001b[0mkeydict\u001b[0m \u001b[0;32mfor\u001b[0m \u001b[0mkeydict\u001b[0m \u001b[0;32min\u001b[0m \u001b[0mkeyPairs\u001b[0m\u001b[0;34m[\u001b[0m\u001b[0;36m0\u001b[0m\u001b[0;34m:\u001b[0m\u001b[0;36m8\u001b[0m\u001b[0;34m]\u001b[0m\u001b[0;34m]\u001b[0m\u001b[0;34m)\u001b[0m\u001b[0;34m\u001b[0m\u001b[0;34m\u001b[0m\u001b[0m\n\u001b[0m",
      "\u001b[0;32m~/miniconda3/envs/opera-gee/lib/python3.10/multiprocessing/pool.py\u001b[0m in \u001b[0;36mmap\u001b[0;34m(self, func, iterable, chunksize)\u001b[0m\n\u001b[1;32m    362\u001b[0m         \u001b[0;32min\u001b[0m \u001b[0ma\u001b[0m \u001b[0mlist\u001b[0m \u001b[0mthat\u001b[0m \u001b[0;32mis\u001b[0m \u001b[0mreturned\u001b[0m\u001b[0;34m.\u001b[0m\u001b[0;34m\u001b[0m\u001b[0;34m\u001b[0m\u001b[0m\n\u001b[1;32m    363\u001b[0m         '''\n\u001b[0;32m--> 364\u001b[0;31m         \u001b[0;32mreturn\u001b[0m \u001b[0mself\u001b[0m\u001b[0;34m.\u001b[0m\u001b[0m_map_async\u001b[0m\u001b[0;34m(\u001b[0m\u001b[0mfunc\u001b[0m\u001b[0;34m,\u001b[0m \u001b[0miterable\u001b[0m\u001b[0;34m,\u001b[0m \u001b[0mmapstar\u001b[0m\u001b[0;34m,\u001b[0m \u001b[0mchunksize\u001b[0m\u001b[0;34m)\u001b[0m\u001b[0;34m.\u001b[0m\u001b[0mget\u001b[0m\u001b[0;34m(\u001b[0m\u001b[0;34m)\u001b[0m\u001b[0;34m\u001b[0m\u001b[0;34m\u001b[0m\u001b[0m\n\u001b[0m\u001b[1;32m    365\u001b[0m \u001b[0;34m\u001b[0m\u001b[0m\n\u001b[1;32m    366\u001b[0m     \u001b[0;32mdef\u001b[0m \u001b[0mstarmap\u001b[0m\u001b[0;34m(\u001b[0m\u001b[0mself\u001b[0m\u001b[0;34m,\u001b[0m \u001b[0mfunc\u001b[0m\u001b[0;34m,\u001b[0m \u001b[0miterable\u001b[0m\u001b[0;34m,\u001b[0m \u001b[0mchunksize\u001b[0m\u001b[0;34m=\u001b[0m\u001b[0;32mNone\u001b[0m\u001b[0;34m)\u001b[0m\u001b[0;34m:\u001b[0m\u001b[0;34m\u001b[0m\u001b[0;34m\u001b[0m\u001b[0m\n",
      "\u001b[0;32m~/miniconda3/envs/opera-gee/lib/python3.10/multiprocessing/pool.py\u001b[0m in \u001b[0;36mget\u001b[0;34m(self, timeout)\u001b[0m\n\u001b[1;32m    763\u001b[0m \u001b[0;34m\u001b[0m\u001b[0m\n\u001b[1;32m    764\u001b[0m     \u001b[0;32mdef\u001b[0m \u001b[0mget\u001b[0m\u001b[0;34m(\u001b[0m\u001b[0mself\u001b[0m\u001b[0;34m,\u001b[0m \u001b[0mtimeout\u001b[0m\u001b[0;34m=\u001b[0m\u001b[0;32mNone\u001b[0m\u001b[0;34m)\u001b[0m\u001b[0;34m:\u001b[0m\u001b[0;34m\u001b[0m\u001b[0;34m\u001b[0m\u001b[0m\n\u001b[0;32m--> 765\u001b[0;31m         \u001b[0mself\u001b[0m\u001b[0;34m.\u001b[0m\u001b[0mwait\u001b[0m\u001b[0;34m(\u001b[0m\u001b[0mtimeout\u001b[0m\u001b[0;34m)\u001b[0m\u001b[0;34m\u001b[0m\u001b[0;34m\u001b[0m\u001b[0m\n\u001b[0m\u001b[1;32m    766\u001b[0m         \u001b[0;32mif\u001b[0m \u001b[0;32mnot\u001b[0m \u001b[0mself\u001b[0m\u001b[0;34m.\u001b[0m\u001b[0mready\u001b[0m\u001b[0;34m(\u001b[0m\u001b[0;34m)\u001b[0m\u001b[0;34m:\u001b[0m\u001b[0;34m\u001b[0m\u001b[0;34m\u001b[0m\u001b[0m\n\u001b[1;32m    767\u001b[0m             \u001b[0;32mraise\u001b[0m \u001b[0mTimeoutError\u001b[0m\u001b[0;34m\u001b[0m\u001b[0;34m\u001b[0m\u001b[0m\n",
      "\u001b[0;32m~/miniconda3/envs/opera-gee/lib/python3.10/multiprocessing/pool.py\u001b[0m in \u001b[0;36mwait\u001b[0;34m(self, timeout)\u001b[0m\n\u001b[1;32m    760\u001b[0m \u001b[0;34m\u001b[0m\u001b[0m\n\u001b[1;32m    761\u001b[0m     \u001b[0;32mdef\u001b[0m \u001b[0mwait\u001b[0m\u001b[0;34m(\u001b[0m\u001b[0mself\u001b[0m\u001b[0;34m,\u001b[0m \u001b[0mtimeout\u001b[0m\u001b[0;34m=\u001b[0m\u001b[0;32mNone\u001b[0m\u001b[0;34m)\u001b[0m\u001b[0;34m:\u001b[0m\u001b[0;34m\u001b[0m\u001b[0;34m\u001b[0m\u001b[0m\n\u001b[0;32m--> 762\u001b[0;31m         \u001b[0mself\u001b[0m\u001b[0;34m.\u001b[0m\u001b[0m_event\u001b[0m\u001b[0;34m.\u001b[0m\u001b[0mwait\u001b[0m\u001b[0;34m(\u001b[0m\u001b[0mtimeout\u001b[0m\u001b[0;34m)\u001b[0m\u001b[0;34m\u001b[0m\u001b[0;34m\u001b[0m\u001b[0m\n\u001b[0m\u001b[1;32m    763\u001b[0m \u001b[0;34m\u001b[0m\u001b[0m\n\u001b[1;32m    764\u001b[0m     \u001b[0;32mdef\u001b[0m \u001b[0mget\u001b[0m\u001b[0;34m(\u001b[0m\u001b[0mself\u001b[0m\u001b[0;34m,\u001b[0m \u001b[0mtimeout\u001b[0m\u001b[0;34m=\u001b[0m\u001b[0;32mNone\u001b[0m\u001b[0;34m)\u001b[0m\u001b[0;34m:\u001b[0m\u001b[0;34m\u001b[0m\u001b[0;34m\u001b[0m\u001b[0m\n",
      "\u001b[0;32m~/miniconda3/envs/opera-gee/lib/python3.10/threading.py\u001b[0m in \u001b[0;36mwait\u001b[0;34m(self, timeout)\u001b[0m\n\u001b[1;32m    598\u001b[0m             \u001b[0msignaled\u001b[0m \u001b[0;34m=\u001b[0m \u001b[0mself\u001b[0m\u001b[0;34m.\u001b[0m\u001b[0m_flag\u001b[0m\u001b[0;34m\u001b[0m\u001b[0;34m\u001b[0m\u001b[0m\n\u001b[1;32m    599\u001b[0m             \u001b[0;32mif\u001b[0m \u001b[0;32mnot\u001b[0m \u001b[0msignaled\u001b[0m\u001b[0;34m:\u001b[0m\u001b[0;34m\u001b[0m\u001b[0;34m\u001b[0m\u001b[0m\n\u001b[0;32m--> 600\u001b[0;31m                 \u001b[0msignaled\u001b[0m \u001b[0;34m=\u001b[0m \u001b[0mself\u001b[0m\u001b[0;34m.\u001b[0m\u001b[0m_cond\u001b[0m\u001b[0;34m.\u001b[0m\u001b[0mwait\u001b[0m\u001b[0;34m(\u001b[0m\u001b[0mtimeout\u001b[0m\u001b[0;34m)\u001b[0m\u001b[0;34m\u001b[0m\u001b[0;34m\u001b[0m\u001b[0m\n\u001b[0m\u001b[1;32m    601\u001b[0m             \u001b[0;32mreturn\u001b[0m \u001b[0msignaled\u001b[0m\u001b[0;34m\u001b[0m\u001b[0;34m\u001b[0m\u001b[0m\n\u001b[1;32m    602\u001b[0m \u001b[0;34m\u001b[0m\u001b[0m\n",
      "\u001b[0;32m~/miniconda3/envs/opera-gee/lib/python3.10/threading.py\u001b[0m in \u001b[0;36mwait\u001b[0;34m(self, timeout)\u001b[0m\n\u001b[1;32m    318\u001b[0m         \u001b[0;32mtry\u001b[0m\u001b[0;34m:\u001b[0m    \u001b[0;31m# restore state no matter what (e.g., KeyboardInterrupt)\u001b[0m\u001b[0;34m\u001b[0m\u001b[0;34m\u001b[0m\u001b[0m\n\u001b[1;32m    319\u001b[0m             \u001b[0;32mif\u001b[0m \u001b[0mtimeout\u001b[0m \u001b[0;32mis\u001b[0m \u001b[0;32mNone\u001b[0m\u001b[0;34m:\u001b[0m\u001b[0;34m\u001b[0m\u001b[0;34m\u001b[0m\u001b[0m\n\u001b[0;32m--> 320\u001b[0;31m                 \u001b[0mwaiter\u001b[0m\u001b[0;34m.\u001b[0m\u001b[0macquire\u001b[0m\u001b[0;34m(\u001b[0m\u001b[0;34m)\u001b[0m\u001b[0;34m\u001b[0m\u001b[0;34m\u001b[0m\u001b[0m\n\u001b[0m\u001b[1;32m    321\u001b[0m                 \u001b[0mgotit\u001b[0m \u001b[0;34m=\u001b[0m \u001b[0;32mTrue\u001b[0m\u001b[0;34m\u001b[0m\u001b[0;34m\u001b[0m\u001b[0m\n\u001b[1;32m    322\u001b[0m             \u001b[0;32melse\u001b[0m\u001b[0;34m:\u001b[0m\u001b[0;34m\u001b[0m\u001b[0;34m\u001b[0m\u001b[0m\n",
      "\u001b[0;31mKeyboardInterrupt\u001b[0m: "
     ]
    }
   ],
   "source": [
    "pool.map(run_rtc_transfer,[keydict for keydict in keyPairs[0:8]])"
   ]
  },
  {
   "cell_type": "code",
   "execution_count": 48,
   "metadata": {},
   "outputs": [
    {
     "name": "stdout",
     "output_type": "stream",
     "text": [
      "Downloading RTC File\n",
      "Translating compression\n",
      "Input file size is 3310, 1664\n",
      "0...10...20...30...40...50...60...70...80...90...100 - done.\n",
      "Input file size is 3310, 1664\n",
      "0...10...20...30...40...50...60...70...80...90...100 - done.\n",
      "Uploading to GCS Bucket\n",
      "[0 - 7.791720867156982] Uploaded to: products/2023-05-04_globalrun_2021-04-11_to_2021-04-22/OPERA_L2_RTC-S1_T001-000010-IW1_20210419T180101Z_20230505T150330Z_S1A_30_v0.0_VH.tif\n",
      "Downloading RTC File\n",
      "Translating compression\n",
      "Input file size is 3437, 1652\n",
      "0...10...20...30...40...50...60...70...80...90...100 - done.\n",
      "Input file size is 3437, 1652\n",
      "0...10...20...30...40...50...60...70...80...90...100 - done.\n",
      "Uploading to GCS Bucket\n",
      "[1 - 16.34800410270691] Uploaded to: products/2023-05-04_globalrun_2021-04-11_to_2021-04-22/OPERA_L2_RTC-S1_T001-000010-IW2_20210419T180102Z_20230505T150330Z_S1A_30_v0.0_VH.tif\n",
      "Downloading RTC File\n",
      "Translating compression\n",
      "Input file size is 3101, 1622\n",
      "0...10...20...30...40...50...60...70...80...90...100 - done.\n",
      "Input file size is 3101, 1622\n",
      "0...10...20...30...40...50...60...70...80...90...100 - done.\n",
      "Uploading to GCS Bucket\n",
      "[2 - 23.82058596611023] Uploaded to: products/2023-05-04_globalrun_2021-04-11_to_2021-04-22/OPERA_L2_RTC-S1_T001-000010-IW3_20210419T180102Z_20230505T150330Z_S1A_30_v0.0_VH.tif\n",
      "Downloading RTC File\n",
      "Translating compression\n",
      "Input file size is 3310, 1663\n",
      "0...10...20...30...40...50...60...70...80...90...100 - done.\n",
      "Input file size is 3310, 1663\n",
      "0...10...20...30...40...50...60...70...80...90...100 - done.\n",
      "Uploading to GCS Bucket\n",
      "[3 - 33.1849000453949] Uploaded to: products/2023-05-04_globalrun_2021-04-11_to_2021-04-22/OPERA_L2_RTC-S1_T001-000011-IW1_20210419T180103Z_20230505T150330Z_S1A_30_v0.0_VH.tif\n",
      "Downloading RTC File\n",
      "Translating compression\n",
      "Input file size is 3437, 1651\n",
      "0...10...20...30...40...50...60...70...80...90...100 - done.\n",
      "Input file size is 3437, 1651\n",
      "0...10...20...30...40...50...60...70...80...90...100 - done.\n",
      "Uploading to GCS Bucket\n",
      "[4 - 41.83866000175476] Uploaded to: products/2023-05-04_globalrun_2021-04-11_to_2021-04-22/OPERA_L2_RTC-S1_T001-000011-IW2_20210419T180104Z_20230505T150330Z_S1A_30_v0.0_VH.tif\n"
     ]
    }
   ],
   "source": [
    "i = 0\n",
    "start_time = time.time()\n",
    "for key in keyList[0:5]:\n",
    "    fname = key.split('/')[-1]\n",
    "    gcsKey = gcs_prefix+fname\n",
    "    if gcsKey not in gcsKeys:\n",
    "        processRTC(key,gcsKey)\n",
    "        print(f'[{i} - {time.time() - start_time}] Uploaded to: {gcsKey}')\n",
    "    else:\n",
    "        print(f'[{i} - {time.time() - start_time}] Skipped: {gcsKey}')\n",
    "    i = i+1"
   ]
  },
  {
   "cell_type": "code",
   "execution_count": 81,
   "metadata": {},
   "outputs": [],
   "source": [
    "#bucket = 'opera-bucket-1'\n",
    "#prefix = 'Validation/DSWx-HLS/dswx_global_summer/'\n",
    "\n",
    "#storage_client = storage.Client()\n",
    "#blobs = storage_client.list_blobs(bucket, prefix=prefix)\n",
    "#gcsKeys = []\n",
    "#for blob in blobs:\n",
    "#    gcsKeys.append(blob.name)\n",
    "#page_token = blobs.next_page_token\n",
    "#i = 0\n",
    "#while page_token != None:\n",
    "#    blobs = storage_client.list_blobs(bucket, prefix=prefix,next_page_token=page_token)\n",
    "#    for blob in blobs:\n",
    "#        gcsKeys.append(blob.name)\n",
    "#    page_token = blobs.next_page_token\n",
    "#    i = i+1\n",
    "#    print(f'page number {i}')\n"
   ]
  },
  {
   "cell_type": "code",
   "execution_count": 86,
   "metadata": {},
   "outputs": [
    {
     "name": "stdout",
     "output_type": "stream",
     "text": [
      "Number of processors:  10\n"
     ]
    }
   ],
   "source": [
    "print(\"Number of processors: \", mp.cpu_count())"
   ]
  },
  {
   "cell_type": "code",
   "execution_count": 3,
   "metadata": {},
   "outputs": [],
   "source": [
    "session = AuthorizedSession(ee.data.get_persistent_credentials())"
   ]
  },
  {
   "cell_type": "code",
   "execution_count": null,
   "metadata": {},
   "outputs": [],
   "source": []
  }
 ],
 "metadata": {
  "kernelspec": {
   "display_name": "opera-gee",
   "language": "python",
   "name": "python3"
  },
  "language_info": {
   "codemirror_mode": {
    "name": "ipython",
    "version": 3
   },
   "file_extension": ".py",
   "mimetype": "text/x-python",
   "name": "python",
   "nbconvert_exporter": "python",
   "pygments_lexer": "ipython3",
   "version": "3.11.3"
  },
  "orig_nbformat": 4
 },
 "nbformat": 4,
 "nbformat_minor": 2
}
