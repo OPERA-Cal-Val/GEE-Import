{
 "cells": [
  {
   "cell_type": "code",
   "execution_count": 11,
   "metadata": {},
   "outputs": [],
   "source": [
    "import ee\n",
    "from google.auth.transport.requests import AuthorizedSession\n",
    "import json\n",
    "from pprint import pprint\n",
    "\n"
   ]
  },
  {
   "cell_type": "code",
   "execution_count": 2,
   "metadata": {},
   "outputs": [
    {
     "data": {
      "text/html": [
       "<p>To authorize access needed by Earth Engine, open the following\n",
       "        URL in a web browser and follow the instructions:</p>\n",
       "        <p><a href=https://code.earthengine.google.com/client-auth?scopes=https%3A//www.googleapis.com/auth/earthengine%20https%3A//www.googleapis.com/auth/devstorage.full_control&request_id=5Ez-pKtYiAwfeIP7bhqxjx2lRlZviIPPuy71HAhOXrw&tc=0lfu56eh0WuOiynpQsp9GRa1ZnCD-p7-uGTb3B4Mpls&cc=S4s84RAZ-2PEZJAm5XA2Hm8A0wWEqB8CyfZVSYJvBL0>https://code.earthengine.google.com/client-auth?scopes=https%3A//www.googleapis.com/auth/earthengine%20https%3A//www.googleapis.com/auth/devstorage.full_control&request_id=5Ez-pKtYiAwfeIP7bhqxjx2lRlZviIPPuy71HAhOXrw&tc=0lfu56eh0WuOiynpQsp9GRa1ZnCD-p7-uGTb3B4Mpls&cc=S4s84RAZ-2PEZJAm5XA2Hm8A0wWEqB8CyfZVSYJvBL0</a></p>\n",
       "        <p>The authorization workflow will generate a code, which you should paste in the box below.</p>\n",
       "        "
      ],
      "text/plain": [
       "<IPython.core.display.HTML object>"
      ]
     },
     "metadata": {},
     "output_type": "display_data"
    },
    {
     "name": "stdout",
     "output_type": "stream",
     "text": [
      "\n",
      "Successfully saved authorization token.\n"
     ]
    }
   ],
   "source": [
    "ee.Authenticate()  #  or !earthengine authenticate --auth_mode=gcloud\n",
    "session = AuthorizedSession(ee.data.get_persistent_credentials())"
   ]
  },
  {
   "cell_type": "code",
   "execution_count": 12,
   "metadata": {},
   "outputs": [],
   "source": [
    "request = {\n",
    "  'type': 'IMAGE',\n",
    "  'gcs_location': {\n",
    "    'uris': ['gs://opera-bucket-cslc/prodcuts/test-run/OPERA_L2_CSLC-S1A_IW_T034-071045-IW1_VV_20181222T002623Z_v0.0_20230315T003618Z.h5']\n",
    "  },\n",
    "  'properties': {\n",
    "    'sensor': 'S1A'\n",
    "  },\n",
    "  'startTime': '2016-01-01T00:00:00.000000000Z',\n",
    "  'endTime': '2016-12-31T15:01:23.000000000Z',\n",
    "}"
   ]
  },
  {
   "cell_type": "code",
   "execution_count": 13,
   "metadata": {},
   "outputs": [],
   "source": [
    "# Earth Engine enabled Cloud Project.\n",
    "project_folder = 'opera-one'\n",
    "# A folder (or ImageCollection) name and the new asset name.\n",
    "asset_id = 'cslc-cog-collection/OPERA_L2_CSLC-S1A_IW_T034-071045-IW1_VV_20181222T002623Z_v0_0_20230315T003618Z'\n",
    "\n",
    "url = 'https://earthengine.googleapis.com/v1alpha/projects/{}/assets?assetId={}'\n",
    "\n",
    "response = session.post(\n",
    "  url = url.format(project_folder, asset_id),\n",
    "  data = json.dumps(request)\n",
    ")"
   ]
  },
  {
   "cell_type": "code",
   "execution_count": 14,
   "metadata": {},
   "outputs": [
    {
     "name": "stdout",
     "output_type": "stream",
     "text": [
      "b'{'\n",
      "b'  \"type\": \"IMAGE\",'\n",
      "b'  \"name\": \"projects/opera-one/assets/cslc-cog-collection/OPERA_L2_CSLC-S1A_IW_T034-071045-IW1_VV_20181222T002623Z_v0_0_20230315T003618Z\",'\n",
      "b'  \"id\": \"projects/opera-one/assets/cslc-cog-collection/OPERA_L2_CSLC-S1A_IW_T034-071045-IW1_VV_20181222T002623Z_v0_0_20230315T003618Z\",'\n",
      "b'  \"properties\": {'\n",
      "b'    \"sensor\": \"S1A\"'\n",
      "b'  },'\n",
      "b'  \"updateTime\": \"2023-05-09T18:58:10.575125Z\",'\n",
      "b'  \"startTime\": \"2016-01-01T00:00:00Z\",'\n",
      "b'  \"endTime\": \"2016-12-31T15:01:23Z\",'\n",
      "b'  \"geometry\": {'\n",
      "b'    \"type\": \"LineString\",'\n",
      "b'    \"coordinates\": ['\n",
      "b'      ['\n",
      "b'        -95.996721323628236,'\n",
      "b'        28.222792016560273'\n",
      "b'      ],'\n",
      "b'      ['\n",
      "b'        -95.996730362189936,'\n",
      "b'        28.222792332148959'\n",
      "b'      ],'\n",
      "b'      ['\n",
      "b'        -97.00515916145838,'\n",
      "b'        28.196957392164567'\n",
      "b'      ],'\n",
      "b'      ['\n",
      "b'        -97.005191468138619,'\n",
      "b'        28.196930610942857'\n",
      "b'      ],'\n",
      "b'      ['\n",
      "b'        -97.005227300693278,'\n",
      "b'        28.196907556137255'\n",
      "b'      ],'\n",
      "b'      ['\n",
      "b'        -97.00522918661774,'\n",
      "b'        28.196897070981819'\n",
      "b'      ],'\n",
      "b'      ['\n",
      "b'        -96.997548754443187,'\n",
      "b'        27.990135145749935'\n",
      "b'      ],'\n",
      "b'      ['\n",
      "b'        -96.989949553293044,'\n",
      "b'        27.783370317064374'\n",
      "b'      ],'\n",
      "b'      ['\n",
      "b'        -96.989919221531309,'\n",
      "b'        27.783341858087713'\n",
      "b'      ],'\n",
      "b'      ['\n",
      "b'        -96.989893234600586,'\n",
      "b'        27.783310242453503'\n",
      "b'      ],'\n",
      "b'      ['\n",
      "b'        -96.989881347837567,'\n",
      "b'        27.783308618494431'\n",
      "b'      ],'\n",
      "b'      ['\n",
      "b'        -95.985278292197791,'\n",
      "b'        27.808699503754809'\n",
      "b'      ],'\n",
      "b'      ['\n",
      "b'        -95.985245937027344,'\n",
      "b'        27.808726121579394'\n",
      "b'      ],'\n",
      "b'      ['\n",
      "b'        -95.985209950997685,'\n",
      "b'        27.808748886541302'\n",
      "b'      ],'\n",
      "b'      ['\n",
      "b'        -95.985208014530329,'\n",
      "b'        27.808759396148325'\n",
      "b'      ],'\n",
      "b'      ['\n",
      "b'        -95.990901898917315,'\n",
      "b'        28.0157511651759'\n",
      "b'      ],'\n",
      "b'      ['\n",
      "b'        -95.996656359005726,'\n",
      "b'        28.222730228510429'\n",
      "b'      ],'\n",
      "b'      ['\n",
      "b'        -95.99668654131861,'\n",
      "b'        28.2227589562203'\n",
      "b'      ],'\n",
      "b'      ['\n",
      "b'        -95.996712365769326,'\n",
      "b'        28.222790719519317'\n",
      "b'      ],'\n",
      "b'      ['\n",
      "b'        -95.996721323628236,'\n",
      "b'        28.222792016560273'\n",
      "b'      ]'\n",
      "b'    ]'\n",
      "b'  },'\n",
      "b'  \"bands\": ['\n",
      "b'    {'\n",
      "b'      \"id\": \"B0\",'\n",
      "b'      \"dataType\": {'\n",
      "b'        \"precision\": \"DOUBLE\"'\n",
      "b'      },'\n",
      "b'      \"grid\": {'\n",
      "b'        \"crsCode\": \"EPSG:32615\",'\n",
      "b'        \"dimensions\": {'\n",
      "b'          \"width\": 19830,'\n",
      "b'          \"height\": 4593'\n",
      "b'        },'\n",
      "b'        \"affineTransform\": {'\n",
      "b'          \"scaleX\": 5,'\n",
      "b'          \"translateX\": 106740,'\n",
      "b'          \"scaleY\": -10,'\n",
      "b'          \"translateY\": 3125520'\n",
      "b'        }'\n",
      "b'      },'\n",
      "b'      \"pyramidingPolicy\": \"MEAN\"'\n",
      "b'    }'\n",
      "b'  ],'\n",
      "b'  \"cloudStorageLocation\": {'\n",
      "b'    \"uris\": ['\n",
      "b'      \"gs://opera-bucket-cslc/prodcuts/test-run/OPERA_L2_CSLC-S1A_IW_T034-071045-IW1_VV_20181222T002623Z_v0.0_20230315T003618Z.h5#1683658534071561\"'\n",
      "b'    ]'\n",
      "b'  }'\n",
      "b'}'\n"
     ]
    }
   ],
   "source": [
    "for item in response.iter_lines():\n",
    "    print(item)"
   ]
  },
  {
   "cell_type": "code",
   "execution_count": 22,
   "metadata": {},
   "outputs": [
    {
     "name": "stdout",
     "output_type": "stream",
     "text": [
      "https://earthengine.googleapis.com/v1alpha/projects/{}/assets?assetId={}\n"
     ]
    }
   ],
   "source": [
    "print(url)"
   ]
  },
  {
   "cell_type": "code",
   "execution_count": null,
   "metadata": {},
   "outputs": [],
   "source": []
  }
 ],
 "metadata": {
  "kernelspec": {
   "display_name": "opera-gee",
   "language": "python",
   "name": "python3"
  },
  "language_info": {
   "codemirror_mode": {
    "name": "ipython",
    "version": 3
   },
   "file_extension": ".py",
   "mimetype": "text/x-python",
   "name": "python",
   "nbconvert_exporter": "python",
   "pygments_lexer": "ipython3",
   "version": "3.10.0"
  },
  "orig_nbformat": 4
 },
 "nbformat": 4,
 "nbformat_minor": 2
}
